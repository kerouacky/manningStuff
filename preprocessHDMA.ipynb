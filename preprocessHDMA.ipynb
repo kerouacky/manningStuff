{
 "cells": [
  {
   "cell_type": "code",
   "execution_count": null,
   "metadata": {},
   "outputs": [],
   "source": [
    "%pip install pandas\n",
    "%pip install seaborn\n",
    "%pip install matplotlib\n",
    "%pip install sklearn\n",
    "import pickle as pkl\n",
    "import pandas as pd\n",
    "import seaborn as sns\n",
    "import matplotlib.pyplot as plt\n",
    "import numpy as np\n"
   ]
  },
  {
   "cell_type": "code",
   "execution_count": 22,
   "metadata": {},
   "outputs": [
    {
     "name": "stdout",
     "output_type": "stream",
     "text": [
      "Requirement already satisfied: scikit-learn in c:\\users\\testuser\\appdata\\local\\programs\\python\\python311\\lib\\site-packages (1.2.2)\n",
      "Requirement already satisfied: numpy>=1.17.3 in c:\\users\\testuser\\appdata\\local\\programs\\python\\python311\\lib\\site-packages (from scikit-learn) (1.24.2)\n",
      "Requirement already satisfied: scipy>=1.3.2 in c:\\users\\testuser\\appdata\\local\\programs\\python\\python311\\lib\\site-packages (from scikit-learn) (1.10.1)\n",
      "Requirement already satisfied: joblib>=1.1.1 in c:\\users\\testuser\\appdata\\local\\programs\\python\\python311\\lib\\site-packages (from scikit-learn) (1.2.0)\n",
      "Requirement already satisfied: threadpoolctl>=2.0.0 in c:\\users\\testuser\\appdata\\local\\programs\\python\\python311\\lib\\site-packages (from scikit-learn) (3.1.0)\n",
      "Note: you may need to restart the kernel to use updated packages.\n"
     ]
    },
    {
     "name": "stderr",
     "output_type": "stream",
     "text": [
      "\n",
      "[notice] A new release of pip available: 22.3.1 -> 23.0.1\n",
      "[notice] To update, run: python.exe -m pip install --upgrade pip\n"
     ]
    },
    {
     "name": "stdout",
     "output_type": "stream",
     "text": [
      "Collecting fsspec\n",
      "  Downloading fsspec-2023.4.0-py3-none-any.whl (153 kB)\n",
      "     -------------------------------------- 154.0/154.0 kB 3.1 MB/s eta 0:00:00\n",
      "Installing collected packages: fsspec\n",
      "Successfully installed fsspec-2023.4.0\n",
      "Note: you may need to restart the kernel to use updated packages.\n"
     ]
    },
    {
     "name": "stderr",
     "output_type": "stream",
     "text": [
      "\n",
      "[notice] A new release of pip available: 22.3.1 -> 23.0.1\n",
      "[notice] To update, run: python.exe -m pip install --upgrade pip\n"
     ]
    }
   ],
   "source": [
    "%pip install scikit-learn\n",
    "%pip install fsspec\n",
    "import sklearn as sk\n"
   ]
  },
  {
   "cell_type": "code",
   "execution_count": 28,
   "metadata": {},
   "outputs": [],
   "source": [
    "# load pickle into dataframe\n",
    "df = pd.DataFrame()\n",
    "with open(\"C://Users/testuser/Documents/manningProjects/MeasuringBias/mortgage_data_project_one.pkl\", 'rb') as f:\n",
    "    df = pd.read_pickle(f)\n",
    "\n",
    "# keep only the unique cols\n",
    "keep_vars = ['agency_abbr', 'loan_type_name', 'loan_amount_000s', 'owner_occupancy_name', 'loan_purpose_name', 'property_type_name', 'applicant_ethnicity_name', 'applicant_race_name_1', 'applicant_sex_name', 'applicant_income_000s', 'population', 'minority_population', 'hud_median_family_income', 'tract_to_msamd_income', 'number_of_owner_occupied_units', 'number_of_1_to_4_family_units', 'action_taken_name']\n",
    "\n",
    "df = df[keep_vars]"
   ]
  },
  {
   "cell_type": "code",
   "execution_count": 29,
   "metadata": {},
   "outputs": [
    {
     "name": "stdout",
     "output_type": "stream",
     "text": [
      "<class 'pandas.core.frame.DataFrame'>\n",
      "RangeIndex: 165950 entries, 0 to 165949\n",
      "Data columns (total 36 columns):\n",
      " #   Column                                                                            Non-Null Count   Dtype  \n",
      "---  ------                                                                            --------------   -----  \n",
      " 0   loan_amount_000s                                                                  165950 non-null  int64  \n",
      " 1   applicant_income_000s                                                             165950 non-null  float64\n",
      " 2   population                                                                        165950 non-null  float64\n",
      " 3   minority_population                                                               165950 non-null  float64\n",
      " 4   hud_median_family_income                                                          165950 non-null  float64\n",
      " 5   tract_to_msamd_income                                                             165950 non-null  float64\n",
      " 6   number_of_owner_occupied_units                                                    165950 non-null  float64\n",
      " 7   number_of_1_to_4_family_units                                                     165950 non-null  float64\n",
      " 8   action_taken_name                                                                 165950 non-null  object \n",
      " 9   applicant_ethnicity_name_Hispanic or Latino                                       165950 non-null  float64\n",
      " 10  applicant_ethnicity_name_Not Hispanic or Latino                                   165950 non-null  float64\n",
      " 11  applicant_race_name_1_American Indian or Alaska Native                            165950 non-null  float64\n",
      " 12  applicant_race_name_1_Asian                                                       165950 non-null  float64\n",
      " 13  applicant_race_name_1_Black or African American                                   165950 non-null  float64\n",
      " 14  applicant_race_name_1_Native Hawaiian or Other Pacific Islander                   165950 non-null  float64\n",
      " 15  applicant_race_name_1_White                                                       165950 non-null  float64\n",
      " 16  applicant_sex_name_Female                                                         165950 non-null  float64\n",
      " 17  applicant_sex_name_Male                                                           165950 non-null  float64\n",
      " 18  agency_abbr_CFPB                                                                  165950 non-null  float64\n",
      " 19  agency_abbr_FDIC                                                                  165950 non-null  float64\n",
      " 20  agency_abbr_FRS                                                                   165950 non-null  float64\n",
      " 21  agency_abbr_HUD                                                                   165950 non-null  float64\n",
      " 22  agency_abbr_NCUA                                                                  165950 non-null  float64\n",
      " 23  agency_abbr_OCC                                                                   165950 non-null  float64\n",
      " 24  owner_occupancy_name_Not applicable                                               165950 non-null  float64\n",
      " 25  owner_occupancy_name_Not owner-occupied as a principal dwelling                   165950 non-null  float64\n",
      " 26  owner_occupancy_name_Owner-occupied as a principal dwelling                       165950 non-null  float64\n",
      " 27  property_type_name_Manufactured housing                                           165950 non-null  float64\n",
      " 28  property_type_name_One-to-four family dwelling (other than manufactured housing)  165950 non-null  float64\n",
      " 29  loan_purpose_name_Home improvement                                                165950 non-null  float64\n",
      " 30  loan_purpose_name_Home purchase                                                   165950 non-null  float64\n",
      " 31  loan_purpose_name_Refinancing                                                     165950 non-null  float64\n",
      " 32  loan_type_name_Conventional                                                       165950 non-null  float64\n",
      " 33  loan_type_name_FHA-insured                                                        165950 non-null  float64\n",
      " 34  loan_type_name_FSA/RHS-guaranteed                                                 165950 non-null  float64\n",
      " 35  loan_type_name_VA-guaranteed                                                      165950 non-null  float64\n",
      "dtypes: float64(34), int64(1), object(1)\n",
      "memory usage: 45.6+ MB\n"
     ]
    }
   ],
   "source": [
    "cat_variables = ['applicant_ethnicity_name', 'applicant_race_name_1', 'applicant_sex_name', 'agency_abbr', 'owner_occupancy_name', 'property_type_name', 'loan_purpose_name', 'loan_type_name']\n",
    "\n",
    "# convert categorical variables to dummy variables using OneHotEncoder\n",
    "# https://towardsdatascience.com/categorical-encoding-using-label-encoding-and-one-hot-encoder-911ef77fb5bd\n",
    "\n",
    "from sklearn.preprocessing import OneHotEncoder\n",
    "enc = OneHotEncoder(handle_unknown='ignore')\n",
    "enc_df = pd.DataFrame(enc.fit_transform(df[cat_variables]).toarray())\n",
    "# get feature names from OneHotEncoder\n",
    "enc_df.columns = enc.get_feature_names_out(cat_variables)\n",
    "# join the encoded df\n",
    "df = df.join(enc_df)\n",
    "df = df.drop(cat_variables, axis=1)\n",
    "df.info()\n",
    "\n"
   ]
  },
  {
   "cell_type": "code",
   "execution_count": 39,
   "metadata": {},
   "outputs": [
    {
     "data": {
      "text/plain": [
       "165950"
      ]
     },
     "execution_count": 39,
     "metadata": {},
     "output_type": "execute_result"
    }
   ],
   "source": [
    "# run checks using assert statements\n",
    "# https://realpython.com/python-assert-statement/\n",
    "\n",
    "# assert the there are 27 columns in enc_df\n",
    "assert enc_df.columns.size == 27, f\"27 categorical variables expected, got: {enc_df.columns.size}\"\n",
    "\n",
    "# assert that the number of rows in df is the same as the number of rows in enc_df\n",
    "assert df.shape[0] == 165950, f\"165950 rows expected, got: {df.shape[0]}\"\n"
   ]
  },
  {
   "cell_type": "code",
   "execution_count": 41,
   "metadata": {},
   "outputs": [],
   "source": [
    "df['action_taken_name']\n",
    "\n",
    "# convert action_taken_name to True if \"Application denied by financial institution\" and False otherwise\n",
    "df['action_taken_name'] = df['action_taken_name'].apply(lambda x: True if x == 'Application denied by financial institution' else False)\n"
   ]
  },
  {
   "cell_type": "code",
   "execution_count": 45,
   "metadata": {},
   "outputs": [],
   "source": [
    "# count the number of True and False values in action_taken_name\n",
    "df['action_taken_name'].value_counts()\n",
    "\n",
    "# assert the shape of df\n",
    "assert df.shape == (165950, 36), f\"df shape expected: (165950, 36), got: {df.shape}\""
   ]
  },
  {
   "cell_type": "code",
   "execution_count": 47,
   "metadata": {},
   "outputs": [],
   "source": [
    "# save df to pickle\n",
    "with open(\"./mortgage_data_preprocessed.pkl\", 'wb') as f:\n",
    "    df.to_pickle(f)\n"
   ]
  }
 ],
 "metadata": {
  "kernelspec": {
   "display_name": "Python 3",
   "language": "python",
   "name": "python3"
  },
  "language_info": {
   "codemirror_mode": {
    "name": "ipython",
    "version": 3
   },
   "file_extension": ".py",
   "mimetype": "text/x-python",
   "name": "python",
   "nbconvert_exporter": "python",
   "pygments_lexer": "ipython3",
   "version": "3.11.3"
  },
  "orig_nbformat": 4
 },
 "nbformat": 4,
 "nbformat_minor": 2
}
