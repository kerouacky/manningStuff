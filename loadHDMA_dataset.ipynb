{
  "nbformat": 4,
  "nbformat_minor": 0,
  "metadata": {
    "colab": {
      "provenance": []
    },
    "kernelspec": {
      "name": "python3",
      "display_name": "Python 3"
    },
    "language_info": {
      "name": "python"
    }
  },
  "cells": [
    {
      "cell_type": "code",
      "execution_count": null,
      "metadata": {
        "id": "oqVbMxZlmmcU"
      },
      "outputs": [],
      "source": [
        "# load/read pickle file\n",
        "import pickle as pkl\n",
        "import pandas as pd\n",
        "\n",
        "df = pd.DataFrame()\n",
        "with open('/content/drive/MyDrive/MeasuringBias/mortgage_data_project_one.pkl', 'rb') as f:\n",
        "    df = pd.read_pickle(f)"
      ]
    },
    {
      "cell_type": "code",
      "source": [
        "# explore the HDMI df dataframe\n",
        "print(\"rows x cols: \", df.shape)\n",
        "\n",
        "print(df.head())"
      ],
      "metadata": {
        "colab": {
          "base_uri": "https://localhost:8080/"
        },
        "id": "BJ4PbXr5Q_aU",
        "outputId": "016976ee-0378-431a-ac56-de5eb487765f"
      },
      "execution_count": null,
      "outputs": [
        {
          "output_type": "stream",
          "name": "stdout",
          "text": [
            "rows x cols:  (165950, 78)\n",
            "   as_of_year respondent_id                                agency_name  \\\n",
            "0        2011    0000009179  Office of the Comptroller of the Currency   \n",
            "1        2011    0000476810       Consumer Financial Protection Bureau   \n",
            "2        2011    0000451965       Consumer Financial Protection Bureau   \n",
            "3        2011    0000030052      Federal Deposit Insurance Corporation   \n",
            "4        2011    0002888798                     Federal Reserve System   \n",
            "\n",
            "  agency_abbr  agency_code loan_type_name  loan_type  \\\n",
            "0         OCC            1   Conventional          1   \n",
            "1        CFPB            9   Conventional          1   \n",
            "2        CFPB            9   Conventional          1   \n",
            "3        FDIC            3   Conventional          1   \n",
            "4         FRS            2    FHA-insured          2   \n",
            "\n",
            "                                  property_type_name  property_type  \\\n",
            "0  One-to-four family dwelling (other than manufa...              1   \n",
            "1  One-to-four family dwelling (other than manufa...              1   \n",
            "2  One-to-four family dwelling (other than manufa...              1   \n",
            "3  One-to-four family dwelling (other than manufa...              1   \n",
            "4  One-to-four family dwelling (other than manufa...              1   \n",
            "\n",
            "  loan_purpose_name  ...  edit_status_name edit_status  sequence_number  \\\n",
            "0       Refinancing  ...               NaN         NaN             1653   \n",
            "1       Refinancing  ...               NaN         NaN            31273   \n",
            "2       Refinancing  ...               NaN         NaN          1164651   \n",
            "3  Home improvement  ...               NaN         NaN              515   \n",
            "4     Home purchase  ...               NaN         NaN            44491   \n",
            "\n",
            "   population minority_population  hud_median_family_income  \\\n",
            "0      5972.0            1.890000                   66600.0   \n",
            "1      4188.0            4.660000                   49500.0   \n",
            "2      9565.0           42.529999                   61200.0   \n",
            "3      5928.0            9.990000                   67400.0   \n",
            "4      4021.0            3.560000                   54200.0   \n",
            "\n",
            "  tract_to_msamd_income  number_of_owner_occupied_units  \\\n",
            "0            106.129997                          1973.0   \n",
            "1            106.169998                          1331.0   \n",
            "2            100.330002                          2504.0   \n",
            "3            170.520004                          1755.0   \n",
            "4            139.789993                          1296.0   \n",
            "\n",
            "  number_of_1_to_4_family_units  application_date_indicator  \n",
            "0                        2194.0                           0  \n",
            "1                        3113.0                           0  \n",
            "2                        3149.0                           0  \n",
            "3                        2102.0                           0  \n",
            "4                        1487.0                           0  \n",
            "\n",
            "[5 rows x 78 columns]\n"
          ]
        }
      ]
    },
    {
      "cell_type": "code",
      "source": [
        "# print the column names and type of dataframe df\n",
        "print(df.info())"
      ],
      "metadata": {
        "colab": {
          "base_uri": "https://localhost:8080/"
        },
        "id": "oYXgDNjTSW5r",
        "outputId": "b584d0bf-119e-40fc-8fd1-ab017041ddcd"
      },
      "execution_count": null,
      "outputs": [
        {
          "output_type": "stream",
          "name": "stdout",
          "text": [
            "<class 'pandas.core.frame.DataFrame'>\n",
            "RangeIndex: 165950 entries, 0 to 165949\n",
            "Data columns (total 78 columns):\n",
            " #   Column                          Non-Null Count   Dtype  \n",
            "---  ------                          --------------   -----  \n",
            " 0   as_of_year                      165950 non-null  int64  \n",
            " 1   respondent_id                   165950 non-null  object \n",
            " 2   agency_name                     165950 non-null  object \n",
            " 3   agency_abbr                     165950 non-null  object \n",
            " 4   agency_code                     165950 non-null  int64  \n",
            " 5   loan_type_name                  165950 non-null  object \n",
            " 6   loan_type                       165950 non-null  int64  \n",
            " 7   property_type_name              165950 non-null  object \n",
            " 8   property_type                   165950 non-null  int64  \n",
            " 9   loan_purpose_name               165950 non-null  object \n",
            " 10  loan_purpose                    165950 non-null  int64  \n",
            " 11  owner_occupancy_name            165950 non-null  object \n",
            " 12  owner_occupancy                 165950 non-null  int64  \n",
            " 13  loan_amount_000s                165950 non-null  int64  \n",
            " 14  preapproval_name                165950 non-null  object \n",
            " 15  preapproval                     165950 non-null  int64  \n",
            " 16  action_taken_name               165950 non-null  object \n",
            " 17  action_taken                    165950 non-null  int64  \n",
            " 18  msamd_name                      141539 non-null  object \n",
            " 19  msamd                           141539 non-null  float64\n",
            " 20  state_name                      165950 non-null  object \n",
            " 21  state_abbr                      165950 non-null  object \n",
            " 22  state_code                      165950 non-null  float64\n",
            " 23  county_name                     165950 non-null  object \n",
            " 24  county_code                     165950 non-null  float64\n",
            " 25  census_tract_number             165950 non-null  float64\n",
            " 26  applicant_ethnicity_name        165950 non-null  object \n",
            " 27  applicant_ethnicity             165950 non-null  int64  \n",
            " 28  co_applicant_ethnicity_name     165950 non-null  object \n",
            " 29  co_applicant_ethnicity          165950 non-null  int64  \n",
            " 30  applicant_race_name_1           165950 non-null  object \n",
            " 31  applicant_race_1                165950 non-null  int64  \n",
            " 32  applicant_race_name_2           626 non-null     object \n",
            " 33  applicant_race_2                626 non-null     float64\n",
            " 34  applicant_race_name_3           34 non-null      object \n",
            " 35  applicant_race_3                34 non-null      float64\n",
            " 36  applicant_race_name_4           9 non-null       object \n",
            " 37  applicant_race_4                9 non-null       float64\n",
            " 38  applicant_race_name_5           8 non-null       object \n",
            " 39  applicant_race_5                8 non-null       float64\n",
            " 40  co_applicant_race_name_1        165950 non-null  object \n",
            " 41  co_applicant_race_1             165950 non-null  int64  \n",
            " 42  co_applicant_race_name_2        217 non-null     object \n",
            " 43  co_applicant_race_2             217 non-null     float64\n",
            " 44  co_applicant_race_name_3        7 non-null       object \n",
            " 45  co_applicant_race_3             7 non-null       float64\n",
            " 46  co_applicant_race_name_4        2 non-null       object \n",
            " 47  co_applicant_race_4             2 non-null       float64\n",
            " 48  co_applicant_race_name_5        9 non-null       object \n",
            " 49  co_applicant_race_5             9 non-null       float64\n",
            " 50  applicant_sex_name              165950 non-null  object \n",
            " 51  applicant_sex                   165950 non-null  int64  \n",
            " 52  co_applicant_sex_name           165950 non-null  object \n",
            " 53  co_applicant_sex                165950 non-null  int64  \n",
            " 54  applicant_income_000s           165950 non-null  float64\n",
            " 55  purchaser_type_name             165950 non-null  object \n",
            " 56  purchaser_type                  165950 non-null  int64  \n",
            " 57  denial_reason_name_1            57121 non-null   object \n",
            " 58  denial_reason_1                 57121 non-null   float64\n",
            " 59  denial_reason_name_2            10863 non-null   object \n",
            " 60  denial_reason_2                 10863 non-null   float64\n",
            " 61  denial_reason_name_3            2114 non-null    object \n",
            " 62  denial_reason_3                 2114 non-null    float64\n",
            " 63  rate_spread                     2939 non-null    float64\n",
            " 64  hoepa_status_name               165950 non-null  object \n",
            " 65  hoepa_status                    165950 non-null  int64  \n",
            " 66  lien_status_name                165950 non-null  object \n",
            " 67  lien_status                     165950 non-null  int64  \n",
            " 68  edit_status_name                22429 non-null   object \n",
            " 69  edit_status                     22429 non-null   float64\n",
            " 70  sequence_number                 165950 non-null  int64  \n",
            " 71  population                      165950 non-null  float64\n",
            " 72  minority_population             165950 non-null  float64\n",
            " 73  hud_median_family_income        165950 non-null  float64\n",
            " 74  tract_to_msamd_income           165950 non-null  float64\n",
            " 75  number_of_owner_occupied_units  165950 non-null  float64\n",
            " 76  number_of_1_to_4_family_units   165950 non-null  float64\n",
            " 77  application_date_indicator      165950 non-null  int64  \n",
            "dtypes: float64(24), int64(20), object(34)\n",
            "memory usage: 98.8+ MB\n",
            "None\n"
          ]
        }
      ]
    }
  ]
}